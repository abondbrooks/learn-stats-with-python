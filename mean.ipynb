{
 "metadata": {
  "language_info": {
   "codemirror_mode": {
    "name": "ipython",
    "version": 3
   },
   "file_extension": ".py",
   "mimetype": "text/x-python",
   "name": "python",
   "nbconvert_exporter": "python",
   "pygments_lexer": "ipython3",
   "version": "3.9.1"
  },
  "orig_nbformat": 2,
  "kernelspec": {
   "name": "python391jvsc74a57bd0f6dbcd9a4d5e7c0c830e82b170d7f26f868fd1af12acab047cecf6b3ec394f78",
   "display_name": "Python 3.9.1 64-bit"
  },
  "metadata": {
   "interpreter": {
    "hash": "f6dbcd9a4d5e7c0c830e82b170d7f26f868fd1af12acab047cecf6b3ec394f78"
   }
  }
 },
 "nbformat": 4,
 "nbformat_minor": 2,
 "cells": [
  {
   "cell_type": "code",
   "execution_count": 2,
   "metadata": {},
   "outputs": [
    {
     "output_type": "stream",
     "name": "stdout",
     "text": [
      "The sum total is equal to: 163\nThe mean value is equal to: 40.75\n"
     ]
    }
   ],
   "source": [
    "# Set total equal to the sum\n",
    "\n",
    "total = 29 + 49 + 42 + 43\n",
    "\n",
    "\n",
    "# Set mean_value equal to the mean\n",
    "mean_value = total / 4\n",
    "\n",
    "# The following code prints the total and mean\n",
    "\n",
    "print(\"The sum total is equal to: \" + str(total))\n",
    "print(\"The mean value is equal to: \" + str(mean_value))"
   ]
  },
  {
   "cell_type": "code",
   "execution_count": null,
   "metadata": {},
   "outputs": [],
   "source": []
  }
 ]
}